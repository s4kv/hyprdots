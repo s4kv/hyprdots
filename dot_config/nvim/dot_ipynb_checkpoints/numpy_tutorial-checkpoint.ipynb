{
 "cells": [
  {
   "cell_type": "code",
   "execution_count": null,
   "metadata": {},
   "outputs": [],
   "source": [
    "import numpy as np\n",
    "import matplotlib.pyplot as plt"
   ]
  },
  {
   "cell_type": "markdown",
   "metadata": {},
   "source": [
    "Suppose we want to know the sample mean and sample variance of dataset\n",
    "$$1, 2, 4, 9,0, 19, 21, -9$$\n",
    "We can type in"
   ]
  },
  {
   "cell_type": "code",
   "execution_count": null,
   "metadata": {},
   "outputs": [],
   "source": [
    "x = np.array([1,2,4,9,0,19,21,-9])\n",
    "print(np.mean(x))\n",
    "print(np.var(x,ddof=1))"
   ]
  },
  {
   "cell_type": "code",
   "execution_count": null,
   "metadata": {},
   "outputs": [],
   "source": [
    "x = np.array([1,2,4,9,0,19,21,-9]) #alternative method\n",
    "print(x.mean())\n",
    "print(x.var(ddof=1))"
   ]
  },
  {
   "cell_type": "markdown",
   "metadata": {},
   "source": [
    "What does `ddof` do here? What if we use `np.var()` without the `ddof` parameter?"
   ]
  },
  {
   "cell_type": "markdown",
   "metadata": {},
   "source": [
    "We also have other commands like `np.sum(x)`, `np.median(x)`, `np.std(x,ddof=1)`, and they will produce sum of all observations, median, and sample standard deviation. However, note that numpy array does not have median as a method, therefore `x.median()` does not work."
   ]
  },
  {
   "cell_type": "markdown",
   "metadata": {},
   "source": [
    "If x, y are two numpy arrays of the same size, then x+y yields a numpy array whose entries are sums of elements of x and y. x-y is defined similarly. Moreover, x*y, x/y are also defined elementwise. This means to compute the sum of squares of all datapoints, we can use `np.sum(x**2)`. Let's use this element-wise operation to verify the formula for variance."
   ]
  },
  {
   "cell_type": "code",
   "execution_count": null,
   "metadata": {},
   "outputs": [],
   "source": [
    "xbar = np.mean(x)\n",
    "ssquared = np.sum((x-xbar)**2)/(x.size - 1)\n",
    "print(ssquared == x.var(ddof=1))"
   ]
  },
  {
   "cell_type": "markdown",
   "metadata": {},
   "source": [
    "We can plot the histogram of the given dataset with `plt.hist()'. Note that without providing any parameters, the default should be viewed with all the caveats we went over in class. The choice of bin size, bin intervals can affect how a histogram looks."
   ]
  },
  {
   "cell_type": "code",
   "execution_count": null,
   "metadata": {},
   "outputs": [],
   "source": [
    "plt.hist(x)\n",
    "plt.show()"
   ]
  },
  {
   "cell_type": "markdown",
   "metadata": {},
   "source": [
    "For a pair of data x, y as two numpy arrays of the same size, we construct a scatter plot with the following. We can compute their correlation coefficient by calling `np.corrcoef([x,y])`. Note that `np.corrcoef()' takes a list numpy arrays as its input."
   ]
  },
  {
   "cell_type": "code",
   "execution_count": null,
   "metadata": {},
   "outputs": [],
   "source": [
    "y = np.array([4,0,1,0,8,12,19, -3])\n",
    "print(np.corrcoef([x,y]))"
   ]
  },
  {
   "cell_type": "code",
   "execution_count": null,
   "metadata": {},
   "outputs": [],
   "source": [
    "plt.scatter(x, y)\n",
    "plt.show()"
   ]
  },
  {
   "cell_type": "markdown",
   "metadata": {},
   "source": [
    "To sort a numpy array, one can use `np.sort()`. Note that if you use `sorted()`, which is part of python, the operation will convert a numpy array to a list in Python."
   ]
  },
  {
   "cell_type": "code",
   "execution_count": null,
   "metadata": {},
   "outputs": [],
   "source": [
    "np.sort(x)\n",
    "print(x)"
   ]
  },
  {
   "cell_type": "markdown",
   "metadata": {},
   "source": [
    "We can select an element of numpy array `x` in position `i` by `x[i]`. Subsetting `x` can be done by `x[i:j]`. For instance, `x[2:4]` produces a numpy array from `x`'s position 2 to 9."
   ]
  },
  {
   "cell_type": "code",
   "execution_count": null,
   "metadata": {},
   "outputs": [],
   "source": [
    "print(x[2:6])"
   ]
  },
  {
   "cell_type": "markdown",
   "metadata": {},
   "source": [
    "You can also create your own programs. The following is an example that compute the hyperbolic sine "
   ]
  },
  {
   "cell_type": "code",
   "execution_count": null,
   "metadata": {},
   "outputs": [],
   "source": [
    "def hyp_sine(x):\n",
    "    return ( np.e ** x - np.e ** (-1 * x) ) / 2\n",
    "\n",
    "print(hyp_sine(9))"
   ]
  },
  {
   "cell_type": "markdown",
   "metadata": {},
   "source": [
    "Note `np.e` is the constant $e$ and exponent operation is `**`. Of course, `sinh` is also built-in in numpy."
   ]
  },
  {
   "cell_type": "code",
   "execution_count": null,
   "metadata": {},
   "outputs": [],
   "source": [
    "print(np.sinh(9))"
   ]
  },
  {
   "cell_type": "code",
   "execution_count": null,
   "metadata": {},
   "outputs": [],
   "source": [
    "plt.hist(x)\n",
    "plt.show()"
   ]
  },
  {
   "cell_type": "code",
   "execution_count": null,
   "metadata": {},
   "outputs": [],
   "source": []
  }
 ],
 "metadata": {
  "kernelspec": {
   "display_name": "Python 3 (ipykernel)",
   "language": "python",
   "name": "python3"
  },
  "language_info": {
   "codemirror_mode": {
    "name": "ipython",
    "version": 3
   },
   "file_extension": ".py",
   "mimetype": "text/x-python",
   "name": "python",
   "nbconvert_exporter": "python",
   "pygments_lexer": "ipython3",
   "version": "3.13.5"
  }
 },
 "nbformat": 4,
 "nbformat_minor": 4
}
